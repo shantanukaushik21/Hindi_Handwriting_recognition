{
 "cells": [
  {
   "cell_type": "code",
   "execution_count": 1,
   "metadata": {},
   "outputs": [
    {
     "name": "stderr",
     "output_type": "stream",
     "text": [
      "C:\\Users\\SHANTANU KAUSHIK\\Anaconda3\\envs\\py35\\lib\\site-packages\\h5py\\__init__.py:36: FutureWarning: Conversion of the second argument of issubdtype from `float` to `np.floating` is deprecated. In future, it will be treated as `np.float64 == np.dtype(float).type`.\n",
      "  from ._conv import register_converters as _register_converters\n",
      "Using TensorFlow backend.\n"
     ]
    }
   ],
   "source": [
    "import numpy as np\n",
    "from keras import layers\n",
    "from keras.layers import Input, Dense, Activation, ZeroPadding2D, BatchNormalization, Flatten, Conv2D\n",
    "from keras.layers import AveragePooling2D, MaxPooling2D, Dropout, GlobalMaxPooling2D, GlobalAveragePooling2D\n",
    "from keras.utils import np_utils, print_summary\n",
    "import pandas as pd\n",
    "from keras.models import Sequential\n",
    "from keras.callbacks import ModelCheckpoint\n",
    "import keras.backend as K"
   ]
  },
  {
   "cell_type": "code",
   "execution_count": 2,
   "metadata": {},
   "outputs": [],
   "source": [
    "data = pd.read_csv(\"D:\\data\\data.csv\")\n",
    "dataset = np.array(data)\n",
    "np.random.shuffle(dataset)\n",
    "X = dataset\n",
    "Y = dataset\n",
    "X = X[:, 0:1024]\n",
    "Y = Y[:, 1024]\n",
    "\n",
    "X_train = X[0:70000, :]\n",
    "X_train = X_train / 255.\n",
    "X_test = X[70000:72001, :]\n",
    "X_test = X_test / 255.\n",
    "\n",
    "# Reshape\n",
    "Y = Y.reshape(Y.shape[0], 1)\n",
    "Y_train = Y[0:70000, :]\n",
    "Y_train = Y_train.T\n",
    "Y_test = Y[70000:72001, :]\n",
    "Y_test = Y_test.T"
   ]
  },
  {
   "cell_type": "code",
   "execution_count": 3,
   "metadata": {},
   "outputs": [
    {
     "name": "stdout",
     "output_type": "stream",
     "text": [
      "number of training examples = 70000\n",
      "number of test examples = 2000\n",
      "X_train shape: (70000, 1024)\n",
      "Y_train shape: (1, 70000)\n",
      "X_test shape: (2000, 1024)\n",
      "Y_test shape: (1, 2000)\n"
     ]
    }
   ],
   "source": [
    "print(\"number of training examples = \" + str(X_train.shape[0]))\n",
    "print(\"number of test examples = \" + str(X_test.shape[0]))\n",
    "print(\"X_train shape: \" + str(X_train.shape))\n",
    "print(\"Y_train shape: \" + str(Y_train.shape))\n",
    "print(\"X_test shape: \" + str(X_test.shape))\n",
    "print(\"Y_test shape: \" + str(Y_test.shape))"
   ]
  },
  {
   "cell_type": "code",
   "execution_count": 4,
   "metadata": {},
   "outputs": [],
   "source": [
    "image_x = 32\n",
    "image_y = 32\n",
    "\n",
    "train_y = np_utils.to_categorical(Y_train)\n",
    "test_y = np_utils.to_categorical(Y_test)\n",
    "train_y = train_y.reshape(train_y.shape[1], train_y.shape[2])\n",
    "test_y = test_y.reshape(test_y.shape[1], test_y.shape[2])\n",
    "X_train = X_train.reshape(X_train.shape[0], image_x, image_y, 1)\n",
    "X_test = X_test.reshape(X_test.shape[0], image_x, image_y, 1)"
   ]
  },
  {
   "cell_type": "code",
   "execution_count": 5,
   "metadata": {},
   "outputs": [
    {
     "name": "stdout",
     "output_type": "stream",
     "text": [
      "X_train shape: (70000, 32, 32, 1)\n",
      "Y_train shape: (70000, 37)\n"
     ]
    }
   ],
   "source": [
    "print(\"X_train shape: \" + str(X_train.shape))\n",
    "print(\"Y_train shape: \" + str(train_y.shape))"
   ]
  },
  {
   "cell_type": "code",
   "execution_count": 6,
   "metadata": {},
   "outputs": [],
   "source": [
    "def keras_model(image_x,image_y):\n",
    "    num_of_classes = 37\n",
    "    model = Sequential()\n",
    "    model.add(Conv2D(filters=32, kernel_size=(3, 3), input_shape=(image_x, image_y, 1), activation='relu'))\n",
    "    model.add(MaxPooling2D(pool_size=(2, 2), strides=(2, 2), padding='same'))\n",
    "    model.add(Conv2D(filters=64, kernel_size=(3, 3), input_shape=(image_x, image_y, 1), activation='relu'))\n",
    "    model.add(MaxPooling2D(pool_size=(2, 2), strides=(2, 2), padding='same'))\n",
    "    model.add(Conv2D(filters=128, kernel_size=(3, 3), input_shape=(image_x, image_y, 1), activation='relu'))\n",
    "    model.add(MaxPooling2D(pool_size=(2, 2), strides=(2, 2), padding='same'))\n",
    "    model.add(Conv2D(filters=128, kernel_size=(3, 3), input_shape=(image_x, image_y, 1), activation='relu'))\n",
    "    model.add(MaxPooling2D(pool_size=(2, 2), strides=(2, 2), padding='same'))\n",
    "    model.add(Flatten())\n",
    "    model.add(Dense(num_of_classes, activation='softmax'))\n",
    "    model.compile(loss='categorical_crossentropy', optimizer='adam', metrics=['accuracy'])\n",
    "    filepath = \"devmodelConv4kernel55.h5\"\n",
    "    checkpoint1 = ModelCheckpoint(filepath, monitor='val_acc', verbose=1, save_best_only=True, mode='max')\n",
    "   \n",
    "    callbacks_list = [checkpoint1]\n",
    "\n",
    "    return model, callbacks_list"
   ]
  },
  {
   "cell_type": "code",
   "execution_count": 7,
   "metadata": {
    "scrolled": true
   },
   "outputs": [
    {
     "name": "stdout",
     "output_type": "stream",
     "text": [
      "Train on 70000 samples, validate on 2000 samples\n",
      "Epoch 1/8\n",
      "70000/70000 [==============================] - 185s 3ms/step - loss: 0.5681 - acc: 0.8353 - val_loss: 0.1479 - val_acc: 0.9525\n",
      "\n",
      "Epoch 00001: val_acc improved from -inf to 0.95250, saving model to devmodelConv4kernel55.h5\n",
      "Epoch 2/8\n",
      "70000/70000 [==============================] - 174s 2ms/step - loss: 0.1264 - acc: 0.9607 - val_loss: 0.0990 - val_acc: 0.9695\n",
      "\n",
      "Epoch 00002: val_acc improved from 0.95250 to 0.96950, saving model to devmodelConv4kernel55.h5\n",
      "Epoch 3/8\n",
      "70000/70000 [==============================] - 178s 3ms/step - loss: 0.0767 - acc: 0.9760 - val_loss: 0.0896 - val_acc: 0.9710\n",
      "\n",
      "Epoch 00003: val_acc improved from 0.96950 to 0.97100, saving model to devmodelConv4kernel55.h5\n",
      "Epoch 4/8\n",
      "70000/70000 [==============================] - 184s 3ms/step - loss: 0.0575 - acc: 0.9811 - val_loss: 0.0663 - val_acc: 0.9810\n",
      "\n",
      "Epoch 00004: val_acc improved from 0.97100 to 0.98100, saving model to devmodelConv4kernel55.h5\n",
      "Epoch 5/8\n",
      "70000/70000 [==============================] - 194s 3ms/step - loss: 0.0421 - acc: 0.9863 - val_loss: 0.0769 - val_acc: 0.9800\n",
      "\n",
      "Epoch 00005: val_acc did not improve from 0.98100\n",
      "Epoch 6/8\n",
      "70000/70000 [==============================] - 184s 3ms/step - loss: 0.0348 - acc: 0.9888 - val_loss: 0.0679 - val_acc: 0.9825\n",
      "\n",
      "Epoch 00006: val_acc improved from 0.98100 to 0.98250, saving model to devmodelConv4kernel55.h5\n",
      "Epoch 7/8\n",
      "70000/70000 [==============================] - 180s 3ms/step - loss: 0.0306 - acc: 0.9900 - val_loss: 0.0650 - val_acc: 0.9825\n",
      "\n",
      "Epoch 00007: val_acc did not improve from 0.98250\n",
      "Epoch 8/8\n",
      "70000/70000 [==============================] - 178s 3ms/step - loss: 0.0250 - acc: 0.9918 - val_loss: 0.0841 - val_acc: 0.9775\n",
      "\n",
      "Epoch 00008: val_acc did not improve from 0.98250\n",
      "CNN Error: 2.25%\n",
      "_________________________________________________________________\n",
      "Layer (type)                 Output Shape              Param #   \n",
      "=================================================================\n",
      "conv2d_1 (Conv2D)            (None, 30, 30, 32)        320       \n",
      "_________________________________________________________________\n",
      "max_pooling2d_1 (MaxPooling2 (None, 15, 15, 32)        0         \n",
      "_________________________________________________________________\n",
      "conv2d_2 (Conv2D)            (None, 13, 13, 64)        18496     \n",
      "_________________________________________________________________\n",
      "max_pooling2d_2 (MaxPooling2 (None, 7, 7, 64)          0         \n",
      "_________________________________________________________________\n",
      "conv2d_3 (Conv2D)            (None, 5, 5, 128)         73856     \n",
      "_________________________________________________________________\n",
      "max_pooling2d_3 (MaxPooling2 (None, 3, 3, 128)         0         \n",
      "_________________________________________________________________\n",
      "conv2d_4 (Conv2D)            (None, 1, 1, 128)         147584    \n",
      "_________________________________________________________________\n",
      "max_pooling2d_4 (MaxPooling2 (None, 1, 1, 128)         0         \n",
      "_________________________________________________________________\n",
      "flatten_1 (Flatten)          (None, 128)               0         \n",
      "_________________________________________________________________\n",
      "dense_1 (Dense)              (None, 37)                4773      \n",
      "=================================================================\n",
      "Total params: 245,029\n",
      "Trainable params: 245,029\n",
      "Non-trainable params: 0\n",
      "_________________________________________________________________\n"
     ]
    }
   ],
   "source": [
    "model, callbacks_list = keras_model(image_x, image_y)\n",
    "model.fit(X_train, train_y, validation_data=(X_test, test_y), epochs=8, batch_size=64,callbacks=callbacks_list)\n",
    "scores = model.evaluate(X_test, test_y, verbose=0)\n",
    "print(\"CNN Error: %.2f%%\" % (100 - scores[1] * 100))\n",
    "print_summary(model)\n",
    "model.save('devmodelConv4kernel55.h5')\n"
   ]
  },
  {
   "cell_type": "code",
   "execution_count": null,
   "metadata": {},
   "outputs": [],
   "source": []
  }
 ],
 "metadata": {
  "kernelspec": {
   "display_name": "Python 3",
   "language": "python",
   "name": "python3"
  },
  "language_info": {
   "codemirror_mode": {
    "name": "ipython",
    "version": 3
   },
   "file_extension": ".py",
   "mimetype": "text/x-python",
   "name": "python",
   "nbconvert_exporter": "python",
   "pygments_lexer": "ipython3",
   "version": "3.7.1"
  }
 },
 "nbformat": 4,
 "nbformat_minor": 2
}
